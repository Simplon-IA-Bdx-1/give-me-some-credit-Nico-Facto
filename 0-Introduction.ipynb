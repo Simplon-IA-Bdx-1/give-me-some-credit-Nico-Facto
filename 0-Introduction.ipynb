{
 "cells": [
  {
   "cell_type": "markdown",
   "metadata": {},
   "source": [
    "# Introduction au projet Give-me-some-credit"
   ]
  },
  {
   "cell_type": "raw",
   "metadata": {},
   "source": [
    "Ce projet est le premier qu'on a fait dans le cadre d'une formation de developpeur Data/Ia.\n",
    "\n",
    "Il s'agit d'un concours de machine learning, publié par la platforme Kaggle, on peut retrouver tous les détails ici :\n",
    "\n",
    "https://www.kaggle.com/c/GiveMeSomeCredit/\n",
    "\n",
    "Il faut prédire si nos clients vont remboursser leur credit si on leur accorde, et reduire le nombre de refus à tort.\n",
    "Pour ce concours les datasets sont fournis par Kaggle, lorsque l'on soummet nos predictions, on obtient un score qui nous place dans un classement mondial."
   ]
  },
  {
   "cell_type": "raw",
   "metadata": {},
   "source": [
    "Premier test effectué avec le jeu de données sans \"travail\" :  0.82902"
   ]
  },
  {
   "cell_type": "raw",
   "metadata": {},
   "source": [
    "Position dans le classement 710 / 824"
   ]
  }
 ],
 "metadata": {
  "kernelspec": {
   "display_name": "Python 3",
   "language": "python",
   "name": "python3"
  },
  "language_info": {
   "codemirror_mode": {
    "name": "ipython",
    "version": 3
   },
   "file_extension": ".py",
   "mimetype": "text/x-python",
   "name": "python",
   "nbconvert_exporter": "python",
   "pygments_lexer": "ipython3",
   "version": "3.7.4"
  }
 },
 "nbformat": 4,
 "nbformat_minor": 2
}
