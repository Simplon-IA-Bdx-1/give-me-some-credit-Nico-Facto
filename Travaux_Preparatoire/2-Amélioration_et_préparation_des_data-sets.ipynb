{
 "cells": [
  {
   "cell_type": "markdown",
   "metadata": {},
   "source": [
    "# Amelioration du dataframe"
   ]
  },
  {
   "cell_type": "code",
   "execution_count": null,
   "metadata": {},
   "outputs": [],
   "source": [
    "# On applique des modifications au jeu de données pour le rendre plus précis.\n",
    "from pandas import read_csv\n",
    "\n",
    "df = read_csv('kaggle-give-me-credit-train.csv')\n",
    "\n",
    "df['IncomePerPerson'] = df['MonthlyIncome'] / ( df['NumberOfDependents'] + 1 )\n",
    "df.loc[df.age > 80, 'isOld'] = '1' \n",
    "df.loc[df.age <= 80, 'isOld'] = '0'\n",
    "df['MonthlyDebt'] = df['MonthlyIncome'] * df['DebtRatio']\n",
    "df['MonthlyBalance'] = df['MonthlyIncome'] - df['MonthlyDebt']\n",
    "df['DebtPerPerson'] = df['MonthlyDebt'] / ( df['NumberOfDependents'] + 1 )\n",
    "df['BalancePerPerson'] = df['MonthlyBalance'] / ( df['NumberOfDependents'] + 1 )\n",
    "df['NumberOfTime30-89DaysPastDueNotWorse'] = df['NumberOfTime30-59DaysPastDueNotWorse'] + df['NumberOfTime60-89DaysPastDueNotWorse']\n",
    "df['NumbersOfOpen-NumberRealEstate'] = df['NumberOfOpenCreditLinesAndLoans'] - df['NumberRealEstateLoansOrLines']\n",
    "df = df.fillna(0)\n",
    "\n",
    "df.to_csv('gmsctv2.csv')\n",
    "\n"
   ]
  },
  {
   "cell_type": "markdown",
   "metadata": {},
   "source": [
    "# Modification du ficher test Kaggle"
   ]
  },
  {
   "cell_type": "code",
   "execution_count": null,
   "metadata": {},
   "outputs": [],
   "source": [
    "# # On applique les même modifications au jeu de données de la compétition kaggle(ils doivent être identique).\n",
    "\n",
    "df_test_kaggle = read_csv('https://oml-data.s3.amazonaws.com/kaggle-give-me-credit-test.csv', index_col=0)\n",
    "\n",
    "df_test_kaggle['IncomePerPerson'] = df_test_kaggle['MonthlyIncome'] / ( df_test_kaggle['NumberOfDependents'] + 1 )\n",
    "df_test_kaggle.loc[df_test_kaggle.age > 80, 'isOld'] = '1' \n",
    "df_test_kaggle.loc[df_test_kaggle.age <= 80, 'isOld'] = '0'\n",
    "df_test_kaggle['MonthlyDebt'] = df_test_kaggle['MonthlyIncome'] * df_test_kaggle['DebtRatio']\n",
    "df_test_kaggle['MonthlyBalance'] = df_test_kaggle['MonthlyIncome'] - df_test_kaggle['MonthlyDebt']\n",
    "df_test_kaggle['DebtPerPerson'] = df_test_kaggle['MonthlyDebt'] / ( df_test_kaggle['NumberOfDependents'] + 1 )\n",
    "df_test_kaggle['BalancePerPerson'] = df_test_kaggle['MonthlyBalance'] / ( df_test_kaggle['NumberOfDependents'] + 1 )\n",
    "df_test_kaggle['NumberOfTime30-89DaysPastDueNotWorse'] = df_test_kaggle['NumberOfTime30-59DaysPastDueNotWorse'] + df_test_kaggle['NumberOfTime60-89DaysPastDueNotWorse']\n",
    "df_test_kaggle['NumbersOfOpen-NumberRealEstate'] = df_test_kaggle['NumberOfOpenCreditLinesAndLoans'] - df_test_kaggle['NumberRealEstateLoansOrLines']\n",
    "df_test_kaggle = df_test_kaggle.fillna(0)\n",
    "\n",
    "df_test_kaggle.to_csv('gmctv2_test.csv')"
   ]
  }
 ],
 "metadata": {
  "kernelspec": {
   "display_name": "Python 3",
   "language": "python",
   "name": "python3"
  },
  "language_info": {
   "codemirror_mode": {
    "name": "ipython",
    "version": 3
   },
   "file_extension": ".py",
   "mimetype": "text/x-python",
   "name": "python",
   "nbconvert_exporter": "python",
   "pygments_lexer": "ipython3",
   "version": "3.7.3"
  }
 },
 "nbformat": 4,
 "nbformat_minor": 2
}
