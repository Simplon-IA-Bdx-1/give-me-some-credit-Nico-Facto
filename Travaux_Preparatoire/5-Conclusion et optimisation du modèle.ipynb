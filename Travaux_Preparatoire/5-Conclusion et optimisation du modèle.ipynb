{
 "cells": [
  {
   "cell_type": "code",
   "execution_count": 1,
   "metadata": {},
   "outputs": [
    {
     "data": {
      "application/javascript": [
       "IPython.notebook.set_autosave_interval(0)"
      ]
     },
     "metadata": {},
     "output_type": "display_data"
    },
    {
     "name": "stdout",
     "output_type": "stream",
     "text": [
      "Autosave disabled\n"
     ]
    }
   ],
   "source": [
    "%autosave 0"
   ]
  },
  {
   "cell_type": "markdown",
   "metadata": {},
   "source": [
    "# Conclusion"
   ]
  },
  {
   "cell_type": "raw",
   "metadata": {},
   "source": [
    "Nous cloturons ici notre premier exercice, une derniére soumission à Kaggle a été faite, j'ai simplement, arrondis toutes les données à 4 chiffres aprés la virgule, afin de rendre un peu plus précis certaines opérations de l'algorithme.\n",
    "\n",
    "Résultat 0.86010"
   ]
  },
  {
   "cell_type": "raw",
   "metadata": {},
   "source": [
    "----------------"
   ]
  },
  {
   "cell_type": "raw",
   "metadata": {},
   "source": [
    "Classement : 192 / 924"
   ]
  },
  {
   "cell_type": "raw",
   "metadata": {},
   "source": [
    "Je vais maintenant chercher à optimiser les performances du modéle, ce qui doit faire progresser une derniére fois mon score dans le classement"
   ]
  },
  {
   "cell_type": "code",
   "execution_count": 2,
   "metadata": {},
   "outputs": [],
   "source": [
    "import pandas as pd\n",
    "import numpy as np\n",
    "import xgboost\n",
    "from pandas import read_csv\n",
    "import pandas\n",
    "import numpy as np\n",
    "import matplotlib.pyplot as plt\n",
    "import csv\n",
    "from alys import save as SV\n",
    "from sklearn.model_selection import train_test_split\n",
    "from joblib import dump, load"
   ]
  },
  {
   "cell_type": "code",
   "execution_count": 3,
   "metadata": {},
   "outputs": [],
   "source": [
    "isSave = False"
   ]
  },
  {
   "cell_type": "code",
   "execution_count": 4,
   "metadata": {},
   "outputs": [],
   "source": [
    "df_new = read_csv(\"Base_Files/gmctv3.csv\", index_col =0)\n",
    "x_test = read_csv(\"Base_Files/gmctv2_test.csv\", index_col =0)\n",
    "df_full_test = read_csv(\"Base_Files/gmctv2_test.csv\")"
   ]
  },
  {
   "cell_type": "code",
   "execution_count": 5,
   "metadata": {},
   "outputs": [],
   "source": [
    "Y_full = df_new['target']\n",
    "X_full = df_new.drop(['target'], axis=1)"
   ]
  },
  {
   "cell_type": "code",
   "execution_count": 6,
   "metadata": {},
   "outputs": [],
   "source": [
    "# Xtrain_for_kaggle = df_new\n",
    "\n",
    "# x_train, y_train = train_test_split(X_full, test_size=0.2, random_state=42)"
   ]
  },
  {
   "cell_type": "code",
   "execution_count": 7,
   "metadata": {},
   "outputs": [
    {
     "data": {
      "text/plain": [
       "((150000, 18), (150000,))"
      ]
     },
     "execution_count": 7,
     "metadata": {},
     "output_type": "execute_result"
    }
   ],
   "source": [
    "X_full.shape, Y_full.shape"
   ]
  },
  {
   "cell_type": "code",
   "execution_count": 8,
   "metadata": {},
   "outputs": [],
   "source": [
    "\n",
    "##model xgb\n",
    "xgb_model_kaggle = xgboost.XGBClassifier(n_estimators=550, max_depth=5, learning_rate=0.01,  subsample=0.5, colsample_bytree=0.5)\n",
    "xgb_model_kaggle.fit(X_full,Y_full) \n",
    "#prediction\n",
    "y_test_proba = xgb_model_kaggle.predict_proba(x_test)\n",
    "y_test_scores = y_test_proba[:,1]\n"
   ]
  },
  {
   "cell_type": "code",
   "execution_count": 9,
   "metadata": {},
   "outputs": [],
   "source": [
    "if isSave :\n",
    "    dump(xgb_model_kaggle, 'xgb_model_ia.joblib')"
   ]
  },
  {
   "cell_type": "code",
   "execution_count": 10,
   "metadata": {},
   "outputs": [
    {
     "data": {
      "text/html": [
       "<div>\n",
       "<style scoped>\n",
       "    .dataframe tbody tr th:only-of-type {\n",
       "        vertical-align: middle;\n",
       "    }\n",
       "\n",
       "    .dataframe tbody tr th {\n",
       "        vertical-align: top;\n",
       "    }\n",
       "\n",
       "    .dataframe thead th {\n",
       "        text-align: right;\n",
       "    }\n",
       "</style>\n",
       "<table border=\"1\" class=\"dataframe\">\n",
       "  <thead>\n",
       "    <tr style=\"text-align: right;\">\n",
       "      <th></th>\n",
       "      <th>Id</th>\n",
       "      <th>Probability</th>\n",
       "    </tr>\n",
       "  </thead>\n",
       "  <tbody>\n",
       "    <tr>\n",
       "      <td>0</td>\n",
       "      <td>1</td>\n",
       "      <td>0.059040</td>\n",
       "    </tr>\n",
       "    <tr>\n",
       "      <td>1</td>\n",
       "      <td>2</td>\n",
       "      <td>0.045454</td>\n",
       "    </tr>\n",
       "    <tr>\n",
       "      <td>2</td>\n",
       "      <td>3</td>\n",
       "      <td>0.021017</td>\n",
       "    </tr>\n",
       "    <tr>\n",
       "      <td>3</td>\n",
       "      <td>4</td>\n",
       "      <td>0.075936</td>\n",
       "    </tr>\n",
       "    <tr>\n",
       "      <td>4</td>\n",
       "      <td>5</td>\n",
       "      <td>0.076447</td>\n",
       "    </tr>\n",
       "  </tbody>\n",
       "</table>\n",
       "</div>"
      ],
      "text/plain": [
       "   Id  Probability\n",
       "0   1     0.059040\n",
       "1   2     0.045454\n",
       "2   3     0.021017\n",
       "3   4     0.075936\n",
       "4   5     0.076447"
      ]
     },
     "execution_count": 10,
     "metadata": {},
     "output_type": "execute_result"
    }
   ],
   "source": [
    "xId = pd.DataFrame(y_test_scores)\n",
    "xId['Id'] = df_full_test['id']\n",
    "xId = xId[['Id',0]]\n",
    "xId.columns = ['Id','Probability']\n",
    "xId.head(5)"
   ]
  },
  {
   "cell_type": "code",
   "execution_count": 11,
   "metadata": {},
   "outputs": [],
   "source": [
    "xId.to_csv('forkagg.csv', index=False)"
   ]
  },
  {
   "cell_type": "code",
   "execution_count": 12,
   "metadata": {},
   "outputs": [
    {
     "data": {
      "image/png": "[encoded data removed]",
      "text/plain": [
       "<IPython.core.display.Image object>"
      ]
     },
     "execution_count": 12,
     "metadata": {},
     "output_type": "execute_result"
    }
   ],
   "source": [
    "from IPython.display import Image\n",
    "Image(\"png/1.png\")"
   ]
  },
  {
   "cell_type": "raw",
   "metadata": {},
   "source": [
    "----------------"
   ]
  },
  {
   "cell_type": "raw",
   "metadata": {},
   "source": [
    "Bilan : Sur notre promotion j'obtiens le 2 émé score (Bravo a Aro pour sa premiére place, il est classé 46 avec 0.86223)\n",
    "j'obtient le meilleur C.A avec le seuil optimisé : 10 163 000 \n",
    "Et le meilleur A.U.C : 0.88048\n",
    "\n",
    "Resultat de la promotion : https://docs.google.com/spreadsheets/d/1XuezFZKoyRtHubATAl1nIZkhrcRa_s9dN2qbhoOe1Sg/edit#gid=0\n",
    "Je suis à la ligne 29."
   ]
  },
  {
   "cell_type": "code",
   "execution_count": null,
   "metadata": {},
   "outputs": [],
   "source": []
  }
 ],
 "metadata": {
  "kernelspec": {
   "display_name": "Python 3",
   "language": "python",
   "name": "python3"
  },
  "language_info": {
   "codemirror_mode": {
    "name": "ipython",
    "version": 3
   },
   "file_extension": ".py",
   "mimetype": "text/x-python",
   "name": "python",
   "nbconvert_exporter": "python",
   "pygments_lexer": "ipython3",
   "version": "3.7.3"
  }
 },
 "nbformat": 4,
 "nbformat_minor": 2
}
