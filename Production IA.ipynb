{
 "cells": [
  {
   "cell_type": "code",
   "execution_count": 1,
   "metadata": {},
   "outputs": [
    {
     "data": {
      "application/javascript": [
       "IPython.notebook.set_autosave_interval(0)"
      ]
     },
     "metadata": {},
     "output_type": "display_data"
    },
    {
     "name": "stdout",
     "output_type": "stream",
     "text": [
      "Autosave disabled\n"
     ]
    }
   ],
   "source": [
    "%autosave 0\n",
    "from pandas import read_csv\n",
    "import warnings\n",
    "warnings.filterwarnings(\"ignore\") \n",
    "\n",
    "# For reproduce the Kaggle score donwload the file test cs-test.csv and place it on the root of folder :\n",
    "# https://www.kaggle.com/c/GiveMeSomeCredit/data\n",
    "#Change Any datas to make prediction you needs\n",
    "\n",
    "# Set your source file\n",
    "df = read_csv('gmctv2_test.csv')"
   ]
  },
  {
   "cell_type": "code",
   "execution_count": 2,
   "metadata": {},
   "outputs": [],
   "source": [
    "import pandas\n",
    "from joblib import load\n",
    "import xgboost\n",
    "\n",
    "class iaForCredits() :\n",
    "\n",
    "    def __init__(self,DataFrame):\n",
    "        \"\"\" Import your csv with new inputs, make a prediction by Ia and create .csv on the root of folder \"\"\"\n",
    "\n",
    "        self.importID = DataFrame['id']\n",
    "        self.importfile = DataFrame\n",
    "    \n",
    "        df = self.importfile\n",
    "\n",
    "        #Pre_Processing of the DataFrame\n",
    "        df = df.drop(['id'], axis=1)\n",
    "        df['IncomePerPerson'] = df['MonthlyIncome'] / ( df['NumberOfDependents'] + 1 )\n",
    "        df.loc[df.age > 80, 'isOld'] = 1\n",
    "        df.loc[df.age <= 80, 'isOld'] = 0\n",
    "        df['MonthlyDebt'] = df['MonthlyIncome'] * df['DebtRatio']\n",
    "        df['MonthlyBalance'] = df['MonthlyIncome'] - df['MonthlyDebt']\n",
    "        df['DebtPerPerson'] = df['MonthlyDebt'] / ( df['NumberOfDependents'] + 1 )\n",
    "        df['BalancePerPerson'] = df['MonthlyBalance'] / ( df['NumberOfDependents'] + 1 )\n",
    "        df['NumberOfTime30-89DaysPastDueNotWorse'] = df['NumberOfTime30-59DaysPastDueNotWorse'] + df['NumberOfTime60-89DaysPastDueNotWorse']\n",
    "        df['NumbersOfOpen-NumberRealEstate'] = df['NumberOfOpenCreditLinesAndLoans'] - df['NumberRealEstateLoansOrLines']\n",
    "        df = df.fillna(0)\n",
    "\n",
    "        #load model ia and make prediction\n",
    "        model = load('xgb_model_ia.joblib')\n",
    "        y_prod_proba = model.predict_proba(df)\n",
    "        self.y_prod_scores = y_prod_proba[:,1]\n",
    "        \n",
    "        #format and create the output file for kaggle\n",
    "        xId = pandas.DataFrame(self.y_prod_scores)\n",
    "        xId['Id'] = self.importID\n",
    "        xId = xId[['Id',0]]\n",
    "        xId.columns = ['Id','Probability']\n",
    "        xId.to_csv('forkaggFinal.csv', index=False)\n",
    "\n",
    "        #just print when it's done\n",
    "        print(\"Prediction is done !! \")        \n",
    "        "
   ]
  },
  {
   "cell_type": "code",
   "execution_count": 3,
   "metadata": {},
   "outputs": [
    {
     "name": "stdout",
     "output_type": "stream",
     "text": [
      "Prediction is done !! \n"
     ]
    },
    {
     "data": {
      "text/plain": [
       "<__main__.iaForCredits at 0x7fea54c9af60>"
      ]
     },
     "execution_count": 3,
     "metadata": {},
     "output_type": "execute_result"
    }
   ],
   "source": [
    "iaForCredits(df)"
   ]
  }
 ],
 "metadata": {
  "kernelspec": {
   "display_name": "Python 3",
   "language": "python",
   "name": "python3"
  },
  "language_info": {
   "codemirror_mode": {
    "name": "ipython",
    "version": 3
   },
   "file_extension": ".py",
   "mimetype": "text/x-python",
   "name": "python",
   "nbconvert_exporter": "python",
   "pygments_lexer": "ipython3",
   "version": "3.7.3"
  }
 },
 "nbformat": 4,
 "nbformat_minor": 2
}
